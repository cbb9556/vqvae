{
 "cells": [
  {
   "cell_type": "code",
   "execution_count": 1,
   "metadata": {
    "collapsed": true,
    "ExecuteTime": {
     "end_time": "2024-11-19T04:38:52.053963300Z",
     "start_time": "2024-11-19T04:38:52.044002600Z"
    }
   },
   "outputs": [
    {
     "name": "stderr",
     "output_type": "stream",
     "text": [
      "usage: ipykernel_launcher.py [-h]\n",
      "ipykernel_launcher.py: error: unrecognized arguments: -f C:\\Users\\Administrator\\AppData\\Roaming\\jupyter\\runtime\\kernel-cd0b0a65-f171-4e5a-8ff8-e3194f88dfca.json\n"
     ]
    },
    {
     "ename": "SystemExit",
     "evalue": "2",
     "output_type": "error",
     "traceback": [
      "An exception has occurred, use %tb to see the full traceback.\n",
      "\u001B[1;31mSystemExit\u001B[0m\u001B[1;31m:\u001B[0m 2\n"
     ]
    },
    {
     "name": "stderr",
     "output_type": "stream",
     "text": [
      "D:\\devTools\\anaconda3\\envs\\VG-SVD\\lib\\site-packages\\IPython\\core\\interactiveshell.py:3585: UserWarning: To exit: use 'exit', 'quit', or Ctrl-D.\n",
      "  warn(\"To exit: use 'exit', 'quit', or Ctrl-D.\", stacklevel=1)\n"
     ]
    }
   ],
   "source": [
    "import argparse\n",
    "\n",
    "parser = argparse.ArgumentParser()\n",
    "args = parser.parse_args()\n",
    "\n",
    "parser.add_argument(\"--n_updates\", type=int, default=5000)\n",
    "parser.add\n",
    "\n",
    "def main():\n",
    "    for i in range(args.n_updates):\n",
    "        (x, _) = next(iter(training_loader))\n",
    "\n",
    "\n",
    "    z_e = encoder()\n",
    "    z_q = vq(z_e)\n",
    "    x_hat = decoder(z_q)\n",
    "\n",
    "    loss_recon = recon_loss(x, x_hat)\n",
    "    loss_vq = vq_loss(z_e, z_q)\n",
    "    loss_commit = commitment_loss(z_e, z_q)\n",
    "    loss = loss_recon + loss_vq + loss_commit\n",
    "\n",
    "if __name__ == '__main__':\n",
    "    main()"
   ]
  },
  {
   "cell_type": "code",
   "execution_count": null,
   "outputs": [],
   "source": [
    "import torch.nn as nn\n",
    "\n",
    "class VQVAE(nn.Module):\n",
    "    def __init__(self, n_embeddings, embedding_dim, hidden_dim, n_residual_blocks):\n",
    "        super(VQVAE, self).__init__()\n",
    "        self.encoder = Encoder(n_residual_blocks, hidden_dim, embedding_dim)\n"
   ],
   "metadata": {
    "collapsed": false
   }
  }
 ],
 "metadata": {
  "kernelspec": {
   "display_name": "Python 3",
   "language": "python",
   "name": "python3"
  },
  "language_info": {
   "codemirror_mode": {
    "name": "ipython",
    "version": 2
   },
   "file_extension": ".py",
   "mimetype": "text/x-python",
   "name": "python",
   "nbconvert_exporter": "python",
   "pygments_lexer": "ipython2",
   "version": "2.7.6"
  }
 },
 "nbformat": 4,
 "nbformat_minor": 0
}
